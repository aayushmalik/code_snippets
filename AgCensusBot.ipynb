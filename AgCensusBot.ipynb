{
 "cells": [
  {
   "cell_type": "markdown",
   "metadata": {},
   "source": [
    "The following script is used to download the files from the AgCensus Website http://agcensus.dacnet.nic.in/StateSizeClass.aspx It downloads the data for the selected years, selected states, and selected size groups so that information related to area and size of holdings and irrigation status can be calculated district wise"
   ]
  },
  {
   "cell_type": "code",
   "execution_count": null,
   "metadata": {},
   "outputs": [],
   "source": [
    "import pandas as pd\n",
    "import numpy as np\n",
    "import time\n",
    "from selenium import webdriver"
   ]
  },
  {
   "cell_type": "code",
   "execution_count": null,
   "metadata": {},
   "outputs": [],
   "source": [
    "states = ['A & N ISLANDS',\n",
    "'ANDHRA PRADESH',\n",
    "'ARUNACHAL PRADESH',\n",
    "'ASSAM',\n",
    "'BIHAR',\n",
    "'CHANDIGARH',\n",
    "'D & N HAVELI',\n",
    "'DAMAN & DIU',\n",
    "'DELHI',\n",
    "'GOA',\n",
    "'GUJARAT',\n",
    "'HARYANA',\n",
    "'HIMACHAL PRADESH',\n",
    "'JAMMU & KASHMIR',\n",
    "'KARNATAKA',\n",
    "'KERALA',\n",
    "'LAKSHADWEEP',\n",
    "'MADHYA PRADESH',\n",
    "'MAHARASHTRA',\n",
    "'MANIPUR',\n",
    "'MEGHALAYA',\n",
    "'MIZORAM',\n",
    "'NAGALAND',\n",
    "'ORISSA',\n",
    "'PONDICHERRY',\n",
    "'PUNJAB',\n",
    "'RAJASTHAN',\n",
    "'SIKKIM',\n",
    "'TAMIL NADU',\n",
    "'TRIPURA',\n",
    "'UTTAR PRADESH',\n",
    "'WEST BENGAL','TELENGANA', 'CHATTISGARH', 'JHARKHAND', 'UTTARANCHAL', 'UTTARAKHAND',\n",
    "]"
   ]
  },
  {
   "cell_type": "code",
   "execution_count": null,
   "metadata": {},
   "outputs": [],
   "source": [
    "# earlier the data was downloaded just for the groups that are commented, and later on \"medium\" was downloaded later on\n",
    "# size_groups = ['MARGINAL', 'SMALL', 'SEMIMEDIUM','MEDIUM','LARGE']\n",
    "size_groups = ['MEDIUM']\n",
    "years = ['2005-06', '2010-11', '2015-16']"
   ]
  },
  {
   "cell_type": "code",
   "execution_count": null,
   "metadata": {},
   "outputs": [],
   "source": [
    "for year in years:\n",
    "    for state in states:\n",
    "        try:\n",
    "            print(year, state)\n",
    "            PATH = \"C:\\Program Files (x86)\\chromedriver.exe\"\n",
    "            driver = webdriver.Chrome(PATH)\n",
    "            #opening the webpage\n",
    "            driver.get(\"http://agcensus.dacnet.nic.in/StateSizeClass.aspx\")\n",
    "            print(driver.title)\n",
    "\n",
    "            #selecting the radio button size group\n",
    "            driver.find_element_by_xpath(\"//body[1]/form[1]/table[1]/tbody[1]/tr[1]/td[1]/table[1]/tbody[1]/tr[3]/td[1]/table[1]/tbody[1]/tr[5]/td[1]/table[1]/tbody[1]/tr[1]/td[2]/span[1]/input[1]\").click()\n",
    "            time.sleep(0.5)\n",
    "\n",
    "            #selecting the size group\n",
    "            #this code downlods the data just for medium size group because of error in the original script\n",
    "            driver.find_element_by_xpath(\"//tbody/tr[7]/td[2]/div[1]/select[1]/option[4]\").click()\n",
    "            #the code below downloads the data for all the size group, remember to add the same to the loop as well\n",
    "            #driver.find_element_by_xpath(f\"//option[contains(text(),'{size_group}')]\").click()\n",
    "            time.sleep(0.5)\n",
    "\n",
    "            #year selection\n",
    "            driver.find_element_by_xpath(f\"//option[contains(text(),'{year}')]\").click()\n",
    "            time.sleep(0.5)\n",
    "\n",
    "            #state selection\n",
    "            driver.find_element_by_xpath(f\"//option[contains(text(),'{state}')]\").click()\n",
    "            time.sleep(0.5)\n",
    "\n",
    "            #social groups selection\n",
    "            driver.find_element_by_xpath(\"//option[contains(text(),'ALL SOCIAL GROUPS')]\").click()\n",
    "            time.sleep(0.5)\n",
    "\n",
    "            #gross cropped area selection\n",
    "            driver.find_element_by_xpath(\"//option[contains(text(),'GROSS CROPPED AREA')]\").click()\n",
    "            time.sleep(0.5)\n",
    "\n",
    "            #submission button selection\n",
    "            driver.find_element_by_xpath(\"//body[1]/form[1]/table[1]/tbody[1]/tr[1]/td[1]/table[1]/tbody[1]/tr[3]/td[1]/table[1]/tbody[1]/tr[17]/td[2]/input[1]\").click()\n",
    "            time.sleep(0.5)\n",
    "            driver.find_element_by_xpath(\"//body[1]/form[1]/table[1]/tbody[1]/tr[2]/td[1]/span[1]/div[1]/table[1]/tbody[1]/tr[3]/td[1]/div[1]/div[1]/div[4]/table[1]/tbody[1]/tr[1]/td[1]/div[1]/table[1]/tbody[1]/tr[1]/td[1]/a[1]/img[1]\").click()\n",
    "            time.sleep(0.5)\n",
    "            driver.find_element_by_xpath(\"//a[contains(text(),'CSV (comma delimited)')]\").click()\n",
    "            time.sleep(2)   \n",
    "\n",
    "            driver.close()\n",
    "            print(f'Done for {year} and {state}')\n",
    "        except:\n",
    "            print(f'Error encountered for year {year} and state {state}')\n",
    "            pass"
   ]
  },
  {
   "cell_type": "code",
   "execution_count": null,
   "metadata": {},
   "outputs": [],
   "source": []
  }
 ],
 "metadata": {
  "kernelspec": {
   "display_name": "Python 3",
   "language": "python",
   "name": "python3"
  },
  "language_info": {
   "codemirror_mode": {
    "name": "ipython",
    "version": 3
   },
   "file_extension": ".py",
   "mimetype": "text/x-python",
   "name": "python",
   "nbconvert_exporter": "python",
   "pygments_lexer": "ipython3",
   "version": "3.8.5"
  }
 },
 "nbformat": 4,
 "nbformat_minor": 4
}
