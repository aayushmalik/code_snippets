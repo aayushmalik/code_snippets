{
 "cells": [
  {
   "cell_type": "markdown",
   "metadata": {},
   "source": [
    "this script downloads the data from the apy website"
   ]
  },
  {
   "cell_type": "code",
   "execution_count": 1,
   "metadata": {},
   "outputs": [],
   "source": [
    "import time\n",
    "from selenium import webdriver"
   ]
  },
  {
   "cell_type": "code",
   "execution_count": 7,
   "metadata": {},
   "outputs": [],
   "source": [
    "for i in range(1, 21, 1): #number of years\n",
    "    PATH = \"C:\\Program Files (x86)\\chromedriver.exe\"\n",
    "    driver = webdriver.Chrome(PATH)\n",
    "\n",
    "    driver.get(\"https://aps.dac.gov.in/APY/Public_Report1.aspx\")\n",
    "    time.sleep(3)\n",
    "    \n",
    "    driver.find_element_by_css_selector(\"#TreeViewSeasonn2CheckBox\").click()\n",
    "    driver.find_element_by_css_selector(\"#TreeViewSeasonn3CheckBox\").click()\n",
    "    #year selection\n",
    "    driver.find_element_by_css_selector(\"#TreeViewYearn\"+str(i)+\"CheckBox\").click()\n",
    "    driver.find_element_by_css_selector(\"#RadioButtonList1_1\").click() #distri\n",
    "    #driver.find_element_by_xpath(\"//label[contains(text(),'District Selection')]\").click()\n",
    "    time.sleep(1)\n",
    "    driver.find_element_by_css_selector(\"#TreeView1n0CheckBox\").click()\n",
    "    driver.find_element_by_css_selector(\"#TreeView2n0CheckBox\").click()\n",
    "    driver.find_element_by_xpath(\"//select[@id='DdlFormat']\").click()\n",
    "    driver.find_element_by_xpath(\"//option[contains(text(),'Excel')]\").click()\n",
    "    driver.find_element_by_css_selector(\"#Button1\").click()\n",
    "    time.sleep(5)\n",
    "    \n",
    "    driver.close()"
   ]
  },
  {
   "cell_type": "code",
   "execution_count": null,
   "metadata": {},
   "outputs": [],
   "source": []
  }
 ],
 "metadata": {
  "kernelspec": {
   "display_name": "Python 3",
   "language": "python",
   "name": "python3"
  },
  "language_info": {
   "codemirror_mode": {
    "name": "ipython",
    "version": 3
   },
   "file_extension": ".py",
   "mimetype": "text/x-python",
   "name": "python",
   "nbconvert_exporter": "python",
   "pygments_lexer": "ipython3",
   "version": "3.8.5"
  }
 },
 "nbformat": 4,
 "nbformat_minor": 4
}
