{
 "cells": [
  {
   "cell_type": "code",
   "execution_count": 1,
   "metadata": {},
   "outputs": [],
   "source": [
    "import time\n",
    "import csv\n",
    "\n",
    "from selenium import webdriver"
   ]
  },
  {
   "cell_type": "code",
   "execution_count": null,
   "metadata": {},
   "outputs": [],
   "source": [
    "driver = webdriver.Chrome(r'C:\\Users\\Arvind Balyan\\Desktop\\AayushTCD\\chromedriver_win32\\chromedriver.exe') \n",
    "driver.get('http://52.172.40.227:8992/cr/');\n",
    "\n",
    "while True:\n",
    "    station_name = driver.find_element_by_css_selector(\"#spStationName\").text\n",
    "    bod = driver.find_element_by_css_selector(\"#tdBOD\").text\n",
    "    do = driver.find_element_by_css_selector(\"#tdDO\").text\n",
    "    ec = driver.find_element_by_css_selector(\"#tdEC\").text\n",
    "    ph = driver.find_element_by_css_selector(\"#tdpH\").text\n",
    "    temp = driver.find_element_by_css_selector(\"#tdTemp\").text\n",
    "    toc = driver.find_element_by_css_selector(\"#tdTOC\").text\n",
    "    \n",
    "    obs = [station_name, bod, do, ec, ph, temp, toc]\n",
    "    with open('cpcb_dashboard.csv', mode = \"a\") as data_file:\n",
    "        data_writer = csv.writer(data_file)\n",
    "        data_writer.writerow(obs)\n",
    "        \n",
    "    time.sleep(10) #values refresh after 10 seconds\n",
    "\n",
    "driver.quit()"
   ]
  },
  {
   "cell_type": "code",
   "execution_count": null,
   "metadata": {},
   "outputs": [],
   "source": []
  }
 ],
 "metadata": {
  "kernelspec": {
   "display_name": "Python 3",
   "language": "python",
   "name": "python3"
  },
  "language_info": {
   "codemirror_mode": {
    "name": "ipython",
    "version": 3
   },
   "file_extension": ".py",
   "mimetype": "text/x-python",
   "name": "python",
   "nbconvert_exporter": "python",
   "pygments_lexer": "ipython3",
   "version": "3.7.4"
  }
 },
 "nbformat": 4,
 "nbformat_minor": 2
}
