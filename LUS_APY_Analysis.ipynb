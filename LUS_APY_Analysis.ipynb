{
 "cells": [
  {
   "cell_type": "code",
   "execution_count": 1,
   "metadata": {},
   "outputs": [],
   "source": [
    "import pandas as pd\n",
    "import numpy as np\n",
    "import time\n",
    "from selenium import webdriver"
   ]
  },
  {
   "cell_type": "code",
   "execution_count": null,
   "metadata": {},
   "outputs": [],
   "source": [
    "state_year_dictionary = {\n",
    "    'Andhra Pradesh':'2017-18',\n",
    "    'Arunachal Pradesh':'2016-17',\n",
    "    'Assam':'2018-19',\n",
    "    'Bihar':'2018-19',\n",
    "    'Chhattisgarh':'2016-17',\n",
    "    'Goa':'2017-18',\n",
    "    'Haryana':'2017-18',\n",
    "    'Himachal Pradesh':'2016-17',\n",
    "    'Jammu and Kashmir':'2017-18',\n",
    "    'Jharkhand':'2016-17',\n",
    "    'Karnataka':'2017-18',\n",
    "    'Kerala':'2015-16',\n",
    "    'Madhya Pradesh':'2017-18',\n",
    "    'Meghalaya':'2017-18',\n",
    "    'Mizoram':'2014-15',\n",
    "    'Nagaland':'2017-18',\n",
    "    'Odisha':'2018-19',\n",
    "    'Punjab':'2017-18',\n",
    "    'Rajasthan':'2017-18',\n",
    "    'Tamil Nadu':'2016-17',\n",
    "    'Telangana':'2017-18',\n",
    "    'Tripura':'2015-16',\n",
    "    'Uttar Pradesh':'2016-17',\n",
    "    'Uttarakhand':'2018-19',\n",
    "    'West Bengal':'2018-19',\n",
    "}"
   ]
  },
  {
   "cell_type": "code",
   "execution_count": null,
   "metadata": {},
   "outputs": [],
   "source": [
    "# key is state and value is year\n",
    "for key, value in state_year_dictionary.items():\n",
    "    print(f\"State {key} and Year {value}\")\n",
    "    try:\n",
    "        PATH = \"C:\\Program Files (x86)\\chromedriver.exe\"\n",
    "        driver = webdriver.Chrome(PATH)\n",
    "\n",
    "        driver.get(\"http://aps.dac.gov.in/LUS/Public/Reports.aspx\")\n",
    "        print(driver.title)\n",
    "\n",
    "        driver.find_element_by_xpath(\"//select[@name='DdlState']\").click()\n",
    "        time.sleep(0.5)\n",
    "        driver.find_element_by_xpath(f\"//option[contains(text(),'{key}')]\").click()\n",
    "        time.sleep(0.5)\n",
    "        driver.find_element_by_xpath(\"//select[@name='DdlYear']\").click()\n",
    "        time.sleep(0.5)\n",
    "        driver.find_element_by_xpath(f\"//option[contains(text(),'{value}')]\").click()\n",
    "        time.sleep(0.5)\n",
    "        driver.find_element_by_xpath(\"//select[@name='DdlFormat']\").click()\n",
    "        time.sleep(0.5)\n",
    "        driver.find_element_by_xpath(\"//option[contains(text(),'Excel')]\").click()\n",
    "        time.sleep(0.5)\n",
    "\n",
    "        driver.find_element_by_xpath(\"//a[contains(text(),'4. Area Under Crops')]\").click()\n",
    "\n",
    "        print(f'Done for {key} and {value}')\n",
    "    except:\n",
    "        print(f'Error encountered for year {value} and state {key}')\n",
    "        pass"
   ]
  },
  {
   "cell_type": "code",
   "execution_count": 2,
   "metadata": {},
   "outputs": [],
   "source": [
    "year_codes_for_aps = [18, 19, 20, 21, 22]"
   ]
  },
  {
   "cell_type": "code",
   "execution_count": null,
   "metadata": {},
   "outputs": [],
   "source": [
    "for year in year_codes_for_aps:\n",
    "    PATH = \"C:\\Program Files (x86)\\chromedriver.exe\"\n",
    "    driver = webdriver.Chrome(PATH)\n",
    "\n",
    "    driver.get(\"https://aps.dac.gov.in/APY/Public_Report1.aspx\")\n",
    "    time.sleep(3)\n",
    "    \n",
    "    #season selection for all the seasons\n",
    "    driver.find_element_by_css_selector(\"#TreeViewSeasonn0CheckBox\").click()\n",
    "\n",
    "    #year selection\n",
    "    driver.find_element_by_css_selector(\"#TreeViewYearn\"+str(year)+\"CheckBox\").click()\n",
    "    driver.find_element_by_css_selector(\"#RadioButtonList1_1\").click()\n",
    "    \n",
    "    time.sleep(1)\n",
    "    \n",
    "    #state selector selects for all the states, we need to clean it after the data gets downloaded\n",
    "    driver.find_element_by_css_selector(\"#TreeView1n0CheckBox\").click() #state selector\n",
    "    driver.find_element_by_css_selector(\"#TreeView2n43CheckBox\").click() #rice selector\n",
    "    driver.find_element_by_css_selector(\"#TreeView2n56CheckBox\").click() #wheat selector\n",
    "    \n",
    "    driver.find_element_by_xpath(\"//select[@id='DdlFormat']\").click() #format selection\n",
    "    driver.find_element_by_xpath(\"//option[contains(text(),'Excel')]\").click() #format of the file\n",
    "    driver.find_element_by_css_selector(\"#Button1\").click() #submit button for downloading the file"
   ]
  },
  {
   "cell_type": "code",
   "execution_count": null,
   "metadata": {},
   "outputs": [],
   "source": []
  }
 ],
 "metadata": {
  "kernelspec": {
   "display_name": "Python 3",
   "language": "python",
   "name": "python3"
  },
  "language_info": {
   "codemirror_mode": {
    "name": "ipython",
    "version": 3
   },
   "file_extension": ".py",
   "mimetype": "text/x-python",
   "name": "python",
   "nbconvert_exporter": "python",
   "pygments_lexer": "ipython3",
   "version": "3.8.5"
  }
 },
 "nbformat": 4,
 "nbformat_minor": 4
}
