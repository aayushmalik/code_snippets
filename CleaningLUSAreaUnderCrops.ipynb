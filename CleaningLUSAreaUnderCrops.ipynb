{
 "cells": [
  {
   "cell_type": "code",
   "execution_count": 1,
   "metadata": {},
   "outputs": [],
   "source": [
    "import os\n",
    "import glob\n",
    "import pandas as pd\n",
    "os.chdir(\"C:\\\\Users\\\\MalikAayush\\\\Downloads\\\\LUSCropsStateYears\")"
   ]
  },
  {
   "cell_type": "code",
   "execution_count": 2,
   "metadata": {},
   "outputs": [],
   "source": [
    "extension = 'xls'\n",
    "all_filenames = [i for i in glob.glob('*.{}'.format(extension))]"
   ]
  },
  {
   "cell_type": "code",
   "execution_count": 3,
   "metadata": {},
   "outputs": [
    {
     "name": "stdout",
     "output_type": "stream",
     "text": [
      "WARNING *** file size (24512) not 512 + multiple of sector size (512)\n",
      "WARNING *** file size (32704) not 512 + multiple of sector size (512)\n",
      "WARNING *** file size (40896) not 512 + multiple of sector size (512)\n",
      "WARNING *** file size (24512) not 512 + multiple of sector size (512)\n",
      "WARNING *** file size (24512) not 512 + multiple of sector size (512)\n",
      "WARNING *** file size (24512) not 512 + multiple of sector size (512)\n",
      "WARNING *** file size (24512) not 512 + multiple of sector size (512)\n",
      "WARNING *** file size (40896) not 512 + multiple of sector size (512)\n",
      "WARNING *** file size (32704) not 512 + multiple of sector size (512)\n",
      "WARNING *** file size (40896) not 512 + multiple of sector size (512)\n",
      "WARNING *** file size (40896) not 512 + multiple of sector size (512)\n",
      "WARNING *** file size (65472) not 512 + multiple of sector size (512)\n",
      "WARNING *** file size (32704) not 512 + multiple of sector size (512)\n",
      "WARNING *** file size (24512) not 512 + multiple of sector size (512)\n",
      "WARNING *** file size (32704) not 512 + multiple of sector size (512)\n",
      "WARNING *** file size (40896) not 512 + multiple of sector size (512)\n",
      "WARNING *** file size (32704) not 512 + multiple of sector size (512)\n",
      "WARNING *** file size (16320) not 512 + multiple of sector size (512)\n",
      "WARNING *** file size (32704) not 512 + multiple of sector size (512)\n",
      "WARNING *** file size (24512) not 512 + multiple of sector size (512)\n",
      "WARNING *** file size (32704) not 512 + multiple of sector size (512)\n",
      "WARNING *** file size (32704) not 512 + multiple of sector size (512)\n"
     ]
    }
   ],
   "source": [
    "#combine all files in the list\n",
    "combined_excel = pd.concat([pd.read_excel(f, header = 6) for f in all_filenames ])\n",
    "#export to excel\n",
    "combined_excel.to_excel( \"C:\\\\Users\\\\MalikAayush\\\\Downloads\\\\LUSCropsStateYears\\\\LUSCombined.xlsx\", index=False, encoding='utf-8-sig')"
   ]
  },
  {
   "cell_type": "code",
   "execution_count": null,
   "metadata": {},
   "outputs": [],
   "source": []
  }
 ],
 "metadata": {
  "kernelspec": {
   "display_name": "Python 3",
   "language": "python",
   "name": "python3"
  },
  "language_info": {
   "codemirror_mode": {
    "name": "ipython",
    "version": 3
   },
   "file_extension": ".py",
   "mimetype": "text/x-python",
   "name": "python",
   "nbconvert_exporter": "python",
   "pygments_lexer": "ipython3",
   "version": "3.8.5"
  }
 },
 "nbformat": 4,
 "nbformat_minor": 4
}
