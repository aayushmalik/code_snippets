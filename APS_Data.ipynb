{
 "cells": [
  {
   "cell_type": "code",
   "execution_count": 1,
   "metadata": {},
   "outputs": [],
   "source": [
    "import pandas as pd\n",
    "import numpy as np"
   ]
  },
  {
   "cell_type": "code",
   "execution_count": 2,
   "metadata": {},
   "outputs": [
    {
     "name": "stdout",
     "output_type": "stream",
     "text": [
      "WARNING *** file size (1843136) not 512 + multiple of sector size (512)\n"
     ]
    }
   ],
   "source": [
    "df = pd.read_excel('Raw_APS_2017.xls', header = 2)\n",
    "#df = df.drop('Year', axis = 1)\n",
    "df = df[~df[\"State/Crop/District\"].str.contains('Total', na=False)]\n",
    "\n",
    "tmp = df[df['Season'].isnull()]\n",
    "tmp2 = df[~df['Season'].isnull()]\n",
    "new_index = np.arange(0, df.index.max()+1)\n",
    "header1 = tmp.reindex(new_index)\n",
    "header1 = header1['State/Crop/District'].fillna(method='ffill')\n",
    "final = pd.concat([header1, tmp2], axis=1)\n",
    "final.dropna(axis=0, inplace=True)\n",
    "final['State'] = df['State/Crop/District'][0] #it's not andaman and nicobar\n",
    "final.columns = ['Crop', 'District', 'Season','Area (Hectare)', 'Production (Tonnes)', 'Yield (Tonnes/Hectare)','State']\n",
    "final = final[['State','Crop', 'District', 'Season','Area (Hectare)', 'Production (Tonnes)', 'Yield (Tonnes/Hectare)']]\n",
    "final['District'] = final['District'].str.replace(r'^\\d\\.','')\n",
    "\n",
    "final.to_csv('APS_2017_Cleaned.csv', index=None)"
   ]
  },
  {
   "cell_type": "code",
   "execution_count": null,
   "metadata": {},
   "outputs": [],
   "source": []
  },
  {
   "cell_type": "code",
   "execution_count": null,
   "metadata": {},
   "outputs": [],
   "source": []
  }
 ],
 "metadata": {
  "kernelspec": {
   "display_name": "Python 3",
   "language": "python",
   "name": "python3"
  },
  "language_info": {
   "codemirror_mode": {
    "name": "ipython",
    "version": 3
   },
   "file_extension": ".py",
   "mimetype": "text/x-python",
   "name": "python",
   "nbconvert_exporter": "python",
   "pygments_lexer": "ipython3",
   "version": "3.7.6"
  }
 },
 "nbformat": 4,
 "nbformat_minor": 4
}
