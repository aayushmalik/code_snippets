{
 "cells": [
  {
   "cell_type": "code",
   "execution_count": 1,
   "metadata": {},
   "outputs": [],
   "source": [
    "import pandas as pd\n",
    "import numpy as np"
   ]
  },
  {
   "cell_type": "code",
   "execution_count": 6,
   "metadata": {},
   "outputs": [],
   "source": [
    "fields = ['stationcode', 'river', 'location']\n",
    "df = pd.read_excel('tcd-uchicago-data-2013 2014 2016 2017.xlsx', sheet_name = \"tcd-all-data\", nrows = 2735, usecols = fields)"
   ]
  },
  {
   "cell_type": "code",
   "execution_count": 7,
   "metadata": {},
   "outputs": [
    {
     "data": {
      "text/html": [
       "<div>\n",
       "<style scoped>\n",
       "    .dataframe tbody tr th:only-of-type {\n",
       "        vertical-align: middle;\n",
       "    }\n",
       "\n",
       "    .dataframe tbody tr th {\n",
       "        vertical-align: top;\n",
       "    }\n",
       "\n",
       "    .dataframe thead th {\n",
       "        text-align: right;\n",
       "    }\n",
       "</style>\n",
       "<table border=\"1\" class=\"dataframe\">\n",
       "  <thead>\n",
       "    <tr style=\"text-align: right;\">\n",
       "      <th></th>\n",
       "      <th>stationcode</th>\n",
       "      <th>river</th>\n",
       "      <th>location</th>\n",
       "    </tr>\n",
       "  </thead>\n",
       "  <tbody>\n",
       "    <tr>\n",
       "      <td>2730</td>\n",
       "      <td>3019.0</td>\n",
       "      <td>THIRUMANIMUTHAR</td>\n",
       "      <td>BHAVANI AT D/S OF BHAVANISAGAR, SATHYAMANGALAM...</td>\n",
       "    </tr>\n",
       "    <tr>\n",
       "      <td>2731</td>\n",
       "      <td>3020.0</td>\n",
       "      <td>THIRUMANIMUTHAR</td>\n",
       "      <td>U/S OF KALINGARAYAN CANAL (B5), ERODE, TAMILNADU</td>\n",
       "    </tr>\n",
       "    <tr>\n",
       "      <td>2732</td>\n",
       "      <td>3021.0</td>\n",
       "      <td>THIRUMANIMUTHAR</td>\n",
       "      <td>D/S OF KALINGARAYAN CANAL (B10), ERODE, TAMILNADU</td>\n",
       "    </tr>\n",
       "    <tr>\n",
       "      <td>2733</td>\n",
       "      <td>3024.0</td>\n",
       "      <td>THIRUMANIMUTHAR</td>\n",
       "      <td>SARABANGA AT SALEM, D/S OF TEXTILE DYEING INDU...</td>\n",
       "    </tr>\n",
       "    <tr>\n",
       "      <td>2734</td>\n",
       "      <td>3022.0</td>\n",
       "      <td>THIRUMANIMUTHAR</td>\n",
       "      <td>THIRUMANIMUTHAR AT SALEM,ï¿½ D/S OF SAGO &amp; TEX...</td>\n",
       "    </tr>\n",
       "  </tbody>\n",
       "</table>\n",
       "</div>"
      ],
      "text/plain": [
       "      stationcode            river  \\\n",
       "2730       3019.0  THIRUMANIMUTHAR   \n",
       "2731       3020.0  THIRUMANIMUTHAR   \n",
       "2732       3021.0  THIRUMANIMUTHAR   \n",
       "2733       3024.0  THIRUMANIMUTHAR   \n",
       "2734       3022.0  THIRUMANIMUTHAR   \n",
       "\n",
       "                                               location  \n",
       "2730  BHAVANI AT D/S OF BHAVANISAGAR, SATHYAMANGALAM...  \n",
       "2731   U/S OF KALINGARAYAN CANAL (B5), ERODE, TAMILNADU  \n",
       "2732  D/S OF KALINGARAYAN CANAL (B10), ERODE, TAMILNADU  \n",
       "2733  SARABANGA AT SALEM, D/S OF TEXTILE DYEING INDU...  \n",
       "2734  THIRUMANIMUTHAR AT SALEM,ï¿½ D/S OF SAGO & TEX...  "
      ]
     },
     "execution_count": 7,
     "metadata": {},
     "output_type": "execute_result"
    }
   ],
   "source": [
    "df.tail(5)"
   ]
  },
  {
   "cell_type": "code",
   "execution_count": 15,
   "metadata": {},
   "outputs": [],
   "source": [
    "df.groupby('stationcode')['location'].value_counts().to_csv('duplicate_names.csv', index = True, header = True)"
   ]
  },
  {
   "cell_type": "code",
   "execution_count": null,
   "metadata": {},
   "outputs": [],
   "source": []
  }
 ],
 "metadata": {
  "kernelspec": {
   "display_name": "Python 3",
   "language": "python",
   "name": "python3"
  },
  "language_info": {
   "codemirror_mode": {
    "name": "ipython",
    "version": 3
   },
   "file_extension": ".py",
   "mimetype": "text/x-python",
   "name": "python",
   "nbconvert_exporter": "python",
   "pygments_lexer": "ipython3",
   "version": "3.7.4"
  }
 },
 "nbformat": 4,
 "nbformat_minor": 2
}
