{
 "cells": [
  {
   "cell_type": "code",
   "execution_count": 1,
   "metadata": {},
   "outputs": [],
   "source": [
    "import pandas as pd\n",
    "import numpy as np"
   ]
  },
  {
   "cell_type": "code",
   "execution_count": 2,
   "metadata": {},
   "outputs": [],
   "source": [
    "df = pd.read_excel('Final_VDSA_Data_1966.xlsx', sheet_name = \"onlyFoodCrops\", header = 1)"
   ]
  },
  {
   "cell_type": "code",
   "execution_count": 3,
   "metadata": {},
   "outputs": [],
   "source": [
    "states = df.STATENAME.unique()\n",
    "state_df = pd.DataFrame()\n",
    "\n",
    "for state in states:\n",
    "    temp = df[df.STATENAME == state]\n",
    "    temp = temp.groupby(['Crop'])['Area Cropped in Kharif and Rabi (combined)'].agg('sum')\n",
    "    top_crops = temp.sort_values(ascending = False)[0:10]\n",
    "    result = top_crops.reset_index()\n",
    "    transposed_result = result.transpose().reset_index()\n",
    "    transposed_result['index'] = state\n",
    "    state_df = pd.concat([transposed_result, state_df])\n",
    "\n",
    "state_df = state_df.reset_index()\n",
    "state_df = state_df.drop('level_0', axis = 1)\n",
    "\n",
    "upper_bound = state_df.shape[0] + 1\n",
    "\n",
    "for i in range(1, upper_bound, 2):\n",
    "    state_df.drop(i, axis = 0, inplace = True)\n",
    "    \n",
    "state_df.to_csv('top10statesvdsa.csv', index = None)"
   ]
  },
  {
   "cell_type": "code",
   "execution_count": 4,
   "metadata": {},
   "outputs": [],
   "source": [
    "districts = df.DISTNAME.unique()\n",
    "district_df = pd.DataFrame()\n",
    "\n",
    "for district in districts:\n",
    "    temp = df[df.DISTNAME == district]\n",
    "    temp = temp.groupby(['Crop'])['Area Cropped in Kharif and Rabi (combined)'].agg('sum')\n",
    "    top_crops = temp.sort_values(ascending = False)[0:10]\n",
    "    result = top_crops.reset_index()\n",
    "    transposed_result = result.transpose().reset_index()\n",
    "    transposed_result['index'] = district\n",
    "    district_df = pd.concat([transposed_result, district_df])\n",
    "\n",
    "district_df = district_df.reset_index()\n",
    "district_df = district_df.drop('level_0', axis = 1)\n",
    "\n",
    "upper_bound = district_df.shape[0] + 1\n",
    "\n",
    "for i in range(1, upper_bound, 2):\n",
    "    district_df.drop(i, axis = 0, inplace = True)\n",
    "    \n",
    "district_df.to_csv('top10districtsvdsa.csv', index = None)"
   ]
  },
  {
   "cell_type": "code",
   "execution_count": null,
   "metadata": {},
   "outputs": [],
   "source": []
  },
  {
   "cell_type": "code",
   "execution_count": null,
   "metadata": {},
   "outputs": [],
   "source": []
  },
  {
   "cell_type": "code",
   "execution_count": null,
   "metadata": {},
   "outputs": [],
   "source": []
  },
  {
   "cell_type": "code",
   "execution_count": null,
   "metadata": {},
   "outputs": [],
   "source": []
  },
  {
   "cell_type": "code",
   "execution_count": 10,
   "metadata": {},
   "outputs": [],
   "source": [
    "df = pd.read_excel('Final_APS_Data_2017.xlsx', sheet_name = \"data4Comparison_FoodCrops\")"
   ]
  },
  {
   "cell_type": "code",
   "execution_count": 5,
   "metadata": {},
   "outputs": [],
   "source": [
    "states = df.State.unique()\n",
    "state_df = pd.DataFrame()\n",
    "\n",
    "for state in states:\n",
    "    temp = df[df.State == state]\n",
    "    temp = temp.groupby(['Crop'])['Area Cropped in Kharif and Rabi (combined)'].agg('sum')\n",
    "    top_crops = temp.sort_values(ascending = False)[0:10]\n",
    "    result = top_crops.reset_index()\n",
    "    transposed_result = result.transpose().reset_index()\n",
    "    transposed_result['index'] = state\n",
    "    state_df = pd.concat([transposed_result, state_df])\n",
    "\n",
    "state_df = state_df.reset_index()\n",
    "state_df = state_df.drop('level_0', axis = 1)\n",
    "\n",
    "upper_bound = state_df.shape[0] + 1\n",
    "\n",
    "for i in range(1, upper_bound, 2):\n",
    "    state_df.drop(i, axis = 0, inplace = True)\n",
    "    \n",
    "state_df.to_csv('top10statesaps2017.csv', index = None)"
   ]
  },
  {
   "cell_type": "code",
   "execution_count": 11,
   "metadata": {},
   "outputs": [],
   "source": [
    "districts = df.District.unique()\n",
    "district_df = pd.DataFrame()\n",
    "\n",
    "for district in districts:\n",
    "    temp = df[df.District == district]\n",
    "    temp = temp.groupby(['Crop'])['Area Cropped in Kharif and Rabi (combined)'].agg('sum')\n",
    "    top_crops = temp.sort_values(ascending = False)[0:10]\n",
    "    result = top_crops.reset_index()\n",
    "    transposed_result = result.transpose().reset_index()\n",
    "    transposed_result['index'] = district\n",
    "    district_df = pd.concat([transposed_result, district_df])\n",
    "\n",
    "district_df = district_df.reset_index()\n",
    "district_df = district_df.drop('level_0', axis = 1)\n",
    "\n",
    "upper_bound = district_df.shape[0] + 1\n",
    "\n",
    "for i in range(1, upper_bound, 2):\n",
    "    district_df.drop(i, axis = 0, inplace = True)\n",
    "    \n",
    "district_df.to_csv('top10districtsaps2017.csv', index = None)"
   ]
  },
  {
   "cell_type": "code",
   "execution_count": null,
   "metadata": {},
   "outputs": [],
   "source": []
  },
  {
   "cell_type": "code",
   "execution_count": null,
   "metadata": {},
   "outputs": [],
   "source": []
  },
  {
   "cell_type": "code",
   "execution_count": null,
   "metadata": {},
   "outputs": [],
   "source": []
  },
  {
   "cell_type": "code",
   "execution_count": null,
   "metadata": {},
   "outputs": [],
   "source": []
  }
 ],
 "metadata": {
  "kernelspec": {
   "display_name": "Python 3",
   "language": "python",
   "name": "python3"
  },
  "language_info": {
   "codemirror_mode": {
    "name": "ipython",
    "version": 3
   },
   "file_extension": ".py",
   "mimetype": "text/x-python",
   "name": "python",
   "nbconvert_exporter": "python",
   "pygments_lexer": "ipython3",
   "version": "3.7.6"
  }
 },
 "nbformat": 4,
 "nbformat_minor": 4
}
