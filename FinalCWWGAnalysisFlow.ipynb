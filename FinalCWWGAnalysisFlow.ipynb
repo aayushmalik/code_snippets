{
 "cells": [
  {
   "cell_type": "markdown",
   "metadata": {},
   "source": [
    "This is a final file after iterations for the analysis of the QnA data that comes from the servers of Awaaz.de and compiled into stata dataset. \n",
    "# Remember to run this file only on Monday at 11 AM"
   ]
  },
  {
   "cell_type": "code",
   "execution_count": 1,
   "metadata": {},
   "outputs": [],
   "source": [
    "#importing the relevant libraries for analysis\n",
    "\n",
    "import pandas as pd\n",
    "import numpy as np\n",
    "import datetime as dt"
   ]
  },
  {
   "cell_type": "code",
   "execution_count": 2,
   "metadata": {},
   "outputs": [],
   "source": [
    "#the location is dropbox in usage data, samyam updates it weekly\n",
    "path = '/home/aayush-pad/Dropbox (Precision Agr)/implementation_india/Field_India/Field_Odisha_NEW/01operations/06usage/dta/qna_farmers.dta'\n",
    "df = pd.read_stata(path)"
   ]
  },
  {
   "cell_type": "code",
   "execution_count": 3,
   "metadata": {},
   "outputs": [],
   "source": [
    "#ensure that the block variable is there\n",
    "#sometimes the mobile is written as number, make a consistency in that\n",
    "df = df[['name','number', 'date', 'tag0', 'tag1', 'tag2', 'tag3', 'tag4', 'tag5', 'district', 'block']]"
   ]
  },
  {
   "cell_type": "code",
   "execution_count": 4,
   "metadata": {},
   "outputs": [],
   "source": [
    "df.date = pd.to_datetime(df.date) #to select the subset of dates"
   ]
  },
  {
   "cell_type": "code",
   "execution_count": 5,
   "metadata": {},
   "outputs": [],
   "source": [
    "#this should be run on only monday so that we have call records from previous friday to the gone friday, because data gets updated on friday and meeting is on monday\n",
    "#if anything changes, plan to change the date accordingly\n",
    "\n",
    "start_date = pd.to_datetime(dt.datetime.now() - dt.timedelta(days = 10)) #timedelta to get to the date we need\n",
    "end_date = pd.to_datetime(dt.datetime.now() - dt.timedelta(days = 3)) \n",
    "df = df[(df['date'] > start_date) & (df['date'] < end_date)] #use & and not 'and'"
   ]
  },
  {
   "cell_type": "code",
   "execution_count": 6,
   "metadata": {},
   "outputs": [
    {
     "name": "stdout",
     "output_type": "stream",
     "text": [
      "========== tag0\n",
      "0.blank                          799\n",
      "0.multiple recording             320\n",
      "1.kharif                         109\n",
      "                                  57\n",
      "0.irrelevant                      15\n",
      "0.other                           12\n",
      "3.crop growth management           4\n",
      "3.package of practices             3\n",
      ".                                  3\n",
      "0. mushroom                        3\n",
      "1.rabi                             2\n",
      "3.pest and disease management      2\n",
      "0.fishery                          1\n",
      "0.weather                          1\n",
      "3.fertilizer management            1\n",
      "0.government schemes               1\n",
      "panama wilt                        1\n",
      "Name: tag0, dtype: int64\n",
      "========== tag1\n",
      "                                 1211\n",
      "3.pest and disease management      80\n",
      "3.fertilizer management             9\n",
      "3.package of practices              7\n",
      "1.other                             6\n",
      "3.crop growth management            6\n",
      "2.paddy                             5\n",
      "2.banana                            2\n",
      "2.potato                            1\n",
      "2.other crop                        1\n",
      "2.green pea                         1\n",
      "0.other                             1\n",
      "1.rabi                              1\n",
      "2.cotton                            1\n",
      "4.caseworm                          1\n",
      "2.cauliflower                       1\n",
      "Name: tag1, dtype: int64\n",
      "========== tag2\n",
      "                              1212\n",
      "2.paddy                         29\n",
      "4.stemborer                     12\n",
      "4.caseworm                      10\n",
      "4.bacterial leaf blight          9\n",
      "2.brinjal                        9\n",
      "4.brown plant hopper             9\n",
      "2.betel vine                     4\n",
      "3.crop growth management         4\n",
      "2.pumpkin                        3\n",
      "2.rose                           3\n",
      "2.groundnut                      2\n",
      "2.chilli                         2\n",
      "2.cotton                         2\n",
      "4.sheath blight                  2\n",
      "4.blast                          2\n",
      "2.cauliflower                    2\n",
      "2.lemon                          2\n",
      "3.cultivation practices          2\n",
      "1.other                          2\n",
      "3.nutrient management            1\n",
      "2.potato                         1\n",
      "2.cluster bean                   1\n",
      "2.banana                         1\n",
      "4.yellow vein mosaic virus       1\n",
      "4. sheath blight                 1\n",
      "2.pointed gourd                  1\n",
      "4.leaf curl virus                1\n",
      "2.tomato                         1\n",
      "2.mango                          1\n",
      "5.post flood management          1\n",
      "3.seeds and sowing               1\n",
      "Name: tag2, dtype: int64\n",
      "========== tag3\n",
      "                               1258\n",
      "2.paddy                          42\n",
      "4.second top dressing             4\n",
      "4.white backed plant hopper       4\n",
      "4.shoot and fruit borer           3\n",
      "4.leaf folder                     3\n",
      "4.gall midge                      2\n",
      "4.sucking pest                    2\n",
      "4.gundhi bug                      2\n",
      "4.brown plant hopper              2\n",
      "1.other                           1\n",
      "2.bitter gourd                    1\n",
      "2.chilli                          1\n",
      "4.mealy bug                       1\n",
      "4.brown spot                      1\n",
      "4.epilachna beetle                1\n",
      "2.okra                            1\n",
      "5.hybrid variety                  1\n",
      "4.root rot                        1\n",
      "4.variety                         1\n",
      "4.earhead caterpillar             1\n",
      "4. grain discoloration            1\n",
      "Name: tag3, dtype: int64\n",
      "========== tag4\n",
      "                        1329\n",
      "2.paddy                    3\n",
      "5.dhan-1001                1\n",
      "6.foliar application       1\n",
      "Name: tag4, dtype: int64\n",
      "========== tag5\n",
      "                              1333\n",
      "4.yellow vein mosaic virus       1\n",
      "Name: tag5, dtype: int64\n"
     ]
    }
   ],
   "source": [
    "#it's better to run this command first to know any typos or mistyping or some facts about the data and then carry out the next cell which is for cleaning\n",
    "for i in range(6):\n",
    "    a = 'tag'+ str(i)\n",
    "    print('='*10,a)\n",
    "    print(df[a].value_counts())"
   ]
  },
  {
   "cell_type": "code",
   "execution_count": 7,
   "metadata": {},
   "outputs": [],
   "source": [
    "#data cleaning\n",
    "#if the systems are following the necessary protocols, then eventually there will be no need to run the last three commands in this cell\n",
    "df = df[pd.notnull(df['tag0'])]\n",
    "df = df[~df.tag0.str.startswith('0')]\n",
    "df = df[~df.tag0.str.startswith('.')]\n",
    "df.replace('panicle intiation', '4.panicle initiation', inplace=True)\n",
    "df.replace('leaf yellowing in paddy', '4.leaf yellowing in paddy', inplace=True)\n",
    "df.replace('leaf roller', '4.leaf roller', inplace=True)"
   ]
  },
  {
   "cell_type": "code",
   "execution_count": 8,
   "metadata": {},
   "outputs": [],
   "source": [
    "#remember to join df because after the below written command name number district and date will get lost from the original dataset so make a new df and then join them to get a complete picture\n",
    "#this was made so that it can be joined after performing the stacking operation described below\n",
    "#important to do this before carrying the next step\n",
    "ddf = df[['number','date','district','block', 'name']]"
   ]
  },
  {
   "cell_type": "code",
   "execution_count": 9,
   "metadata": {},
   "outputs": [],
   "source": [
    "df = df.stack().to_frame('a').reset_index(level=1, drop=True).reset_index()\n",
    "df['b'] = df['a'].str.split('.').str[0]\n",
    "d = {'1': 'season', '2': 'crop', '3': 'maintopic', '4':'subtopic','5':'issue'}\n",
    "\n",
    "df = df.pivot_table(index='index',columns='b',values='a', aggfunc=','.join).rename(columns=d).rename_axis(None, axis=1).rename_axis(None)"
   ]
  },
  {
   "cell_type": "code",
   "execution_count": 10,
   "metadata": {},
   "outputs": [],
   "source": [
    "#removing all other irrelevant columns\n",
    "df = df[['season', 'crop', 'maintopic', 'subtopic', 'issue']]"
   ]
  },
  {
   "cell_type": "code",
   "execution_count": 11,
   "metadata": {},
   "outputs": [],
   "source": [
    "merged = df.join(ddf) #to join the ddf and df so that the variables we isolated before can be used with this\n",
    "merged = merged[merged.maintopic == '3.pest and disease management'] #we only need pest and disease information\n",
    "merged.drop('maintopic', axis=1, inplace=True) #because then main topic will only be pest and disease so better to clear it"
   ]
  },
  {
   "cell_type": "code",
   "execution_count": 12,
   "metadata": {},
   "outputs": [],
   "source": [
    "final_df = pd.DataFrame(merged.groupby(['district','block','crop']).subtopic.value_counts())\n",
    "final_df.rename(columns={'subtopic':'#'}, inplace=True) #changing name of the column\n",
    "final_df.reset_index(inplace = True) #to convert multiindex to columns"
   ]
  },
  {
   "cell_type": "code",
   "execution_count": 14,
   "metadata": {},
   "outputs": [],
   "source": [
    "%%capture cap\n",
    "for district in final_df.district.value_counts().head(5).index:\n",
    "    print('='*10,district,'='*10)\n",
    "    temp = final_df[final_df.district == district]\n",
    "    #this writes the block crop issue and count for the top districts\n",
    "    print(temp.groupby(['block', 'crop']).subtopic.value_counts())\n",
    "    #this shows the main issues from the above five districts\n",
    "    print(temp.groupby(['district']).subtopic.value_counts())\n",
    "    \n",
    "with open('pest_n_disease.txt', 'w') as f:\n",
    "    f.write(cap.stdout)"
   ]
  },
  {
   "cell_type": "code",
   "execution_count": 15,
   "metadata": {},
   "outputs": [
    {
     "data": {
      "text/plain": [
       "(65, 5)"
      ]
     },
     "execution_count": 15,
     "metadata": {},
     "output_type": "execute_result"
    }
   ],
   "source": [
    "final_df.shape"
   ]
  },
  {
   "cell_type": "code",
   "execution_count": null,
   "metadata": {},
   "outputs": [],
   "source": []
  }
 ],
 "metadata": {
  "kernelspec": {
   "display_name": "Python 3",
   "language": "python",
   "name": "python3"
  },
  "language_info": {
   "codemirror_mode": {
    "name": "ipython",
    "version": 3
   },
   "file_extension": ".py",
   "mimetype": "text/x-python",
   "name": "python",
   "nbconvert_exporter": "python",
   "pygments_lexer": "ipython3",
   "version": "3.7.4"
  }
 },
 "nbformat": 4,
 "nbformat_minor": 2
}
