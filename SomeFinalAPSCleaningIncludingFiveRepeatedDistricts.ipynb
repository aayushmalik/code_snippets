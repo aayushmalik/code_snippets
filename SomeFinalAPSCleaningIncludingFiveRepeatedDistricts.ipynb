{
 "cells": [
  {
   "cell_type": "code",
   "execution_count": 11,
   "metadata": {},
   "outputs": [],
   "source": [
    "import pandas as pd\n",
    "import numpy as np"
   ]
  },
  {
   "cell_type": "code",
   "execution_count": 12,
   "metadata": {},
   "outputs": [],
   "source": [
    "df = pd.read_excel('cropdata19972017.xlsx')"
   ]
  },
  {
   "cell_type": "code",
   "execution_count": 13,
   "metadata": {},
   "outputs": [
    {
     "data": {
      "text/html": [
       "<div>\n",
       "<style scoped>\n",
       "    .dataframe tbody tr th:only-of-type {\n",
       "        vertical-align: middle;\n",
       "    }\n",
       "\n",
       "    .dataframe tbody tr th {\n",
       "        vertical-align: top;\n",
       "    }\n",
       "\n",
       "    .dataframe thead th {\n",
       "        text-align: right;\n",
       "    }\n",
       "</style>\n",
       "<table border=\"1\" class=\"dataframe\">\n",
       "  <thead>\n",
       "    <tr style=\"text-align: right;\">\n",
       "      <th></th>\n",
       "      <th>STATECODE</th>\n",
       "      <th>STATENAME</th>\n",
       "      <th>DISTCODE</th>\n",
       "      <th>DISTNAME</th>\n",
       "      <th>YEAR</th>\n",
       "      <th>CROP</th>\n",
       "      <th>SEASON</th>\n",
       "      <th>AREA(HECTARE)</th>\n",
       "      <th>PRODUCTION(TONNES)</th>\n",
       "      <th>YIELD(TONNES/HECTARE)</th>\n",
       "    </tr>\n",
       "  </thead>\n",
       "  <tbody>\n",
       "    <tr>\n",
       "      <th>0</th>\n",
       "      <td>36.0</td>\n",
       "      <td>Telangana</td>\n",
       "      <td>532.0</td>\n",
       "      <td>ADILABAD</td>\n",
       "      <td>1997</td>\n",
       "      <td>Arhar/Tur</td>\n",
       "      <td>Kharif</td>\n",
       "      <td>32200.0</td>\n",
       "      <td>1100.0</td>\n",
       "      <td>0.034161</td>\n",
       "    </tr>\n",
       "    <tr>\n",
       "      <th>1</th>\n",
       "      <td>37.0</td>\n",
       "      <td>Andhra Pradesh</td>\n",
       "      <td>553.0</td>\n",
       "      <td>ANANTAPUR</td>\n",
       "      <td>1997</td>\n",
       "      <td>Arhar/Tur</td>\n",
       "      <td>Kharif</td>\n",
       "      <td>21400.0</td>\n",
       "      <td>2600.0</td>\n",
       "      <td>0.121495</td>\n",
       "    </tr>\n",
       "    <tr>\n",
       "      <th>2</th>\n",
       "      <td>37.0</td>\n",
       "      <td>Andhra Pradesh</td>\n",
       "      <td>554.0</td>\n",
       "      <td>CHITTOOR</td>\n",
       "      <td>1997</td>\n",
       "      <td>Arhar/Tur</td>\n",
       "      <td>Kharif</td>\n",
       "      <td>6100.0</td>\n",
       "      <td>900.0</td>\n",
       "      <td>0.147541</td>\n",
       "    </tr>\n",
       "    <tr>\n",
       "      <th>3</th>\n",
       "      <td>37.0</td>\n",
       "      <td>Andhra Pradesh</td>\n",
       "      <td>545.0</td>\n",
       "      <td>EAST GODAVARI</td>\n",
       "      <td>1997</td>\n",
       "      <td>Arhar/Tur</td>\n",
       "      <td>Kharif</td>\n",
       "      <td>1600.0</td>\n",
       "      <td>300.0</td>\n",
       "      <td>0.187500</td>\n",
       "    </tr>\n",
       "    <tr>\n",
       "      <th>4</th>\n",
       "      <td>37.0</td>\n",
       "      <td>Andhra Pradesh</td>\n",
       "      <td>548.0</td>\n",
       "      <td>GUNTUR</td>\n",
       "      <td>1997</td>\n",
       "      <td>Arhar/Tur</td>\n",
       "      <td>Kharif</td>\n",
       "      <td>28400.0</td>\n",
       "      <td>14900.0</td>\n",
       "      <td>0.524648</td>\n",
       "    </tr>\n",
       "  </tbody>\n",
       "</table>\n",
       "</div>"
      ],
      "text/plain": [
       "   STATECODE       STATENAME  DISTCODE       DISTNAME  YEAR       CROP  \\\n",
       "0       36.0       Telangana     532.0       ADILABAD  1997  Arhar/Tur   \n",
       "1       37.0  Andhra Pradesh     553.0      ANANTAPUR  1997  Arhar/Tur   \n",
       "2       37.0  Andhra Pradesh     554.0       CHITTOOR  1997  Arhar/Tur   \n",
       "3       37.0  Andhra Pradesh     545.0  EAST GODAVARI  1997  Arhar/Tur   \n",
       "4       37.0  Andhra Pradesh     548.0         GUNTUR  1997  Arhar/Tur   \n",
       "\n",
       "        SEASON  AREA(HECTARE)  PRODUCTION(TONNES)  YIELD(TONNES/HECTARE)  \n",
       "0  Kharif             32200.0              1100.0               0.034161  \n",
       "1  Kharif             21400.0              2600.0               0.121495  \n",
       "2  Kharif              6100.0               900.0               0.147541  \n",
       "3  Kharif              1600.0               300.0               0.187500  \n",
       "4  Kharif             28400.0             14900.0               0.524648  "
      ]
     },
     "execution_count": 13,
     "metadata": {},
     "output_type": "execute_result"
    }
   ],
   "source": [
    "df.head(5)"
   ]
  },
  {
   "cell_type": "code",
   "execution_count": 14,
   "metadata": {},
   "outputs": [],
   "source": [
    "df = df[df.DISTNAME != 'AURANGABAD']\n",
    "df = df[df.DISTNAME != 'BALRAMPUR']\n",
    "df = df[df.DISTNAME != 'BILASPUR']\n",
    "df = df[df.DISTNAME != 'HAMIRPUR']\n",
    "df = df[df.DISTNAME != 'PRATAPGARH']"
   ]
  },
  {
   "cell_type": "code",
   "execution_count": 15,
   "metadata": {},
   "outputs": [],
   "source": [
    "df.to_excel('fivedistrictsremoved.xlsx', index= None)"
   ]
  },
  {
   "cell_type": "code",
   "execution_count": null,
   "metadata": {},
   "outputs": [],
   "source": []
  }
 ],
 "metadata": {
  "kernelspec": {
   "display_name": "Python 3",
   "language": "python",
   "name": "python3"
  },
  "language_info": {
   "codemirror_mode": {
    "name": "ipython",
    "version": 3
   },
   "file_extension": ".py",
   "mimetype": "text/x-python",
   "name": "python",
   "nbconvert_exporter": "python",
   "pygments_lexer": "ipython3",
   "version": "3.7.6"
  }
 },
 "nbformat": 4,
 "nbformat_minor": 4
}
