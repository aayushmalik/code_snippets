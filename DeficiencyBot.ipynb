{
 "cells": [
  {
   "cell_type": "code",
   "execution_count": 1,
   "metadata": {},
   "outputs": [],
   "source": [
    "import pandas as pd\n",
    "import numpy as np\n",
    "import time\n",
    "from selenium import webdriver"
   ]
  },
  {
   "cell_type": "code",
   "execution_count": 22,
   "metadata": {},
   "outputs": [],
   "source": [
    "states = ['Andaman And Nicobar Islands', 'Andhra Pradesh', 'Arunachal Pradesh', 'Assam', 'Bihar', 'Chandigarh', 'Chhattisgarh', 'The Dadra And Nagar Haveli And Daman And Diu', 'Delhi', 'Goa', 'Gujarat', 'Haryana','Haryana', 'Himachal Pradesh', 'Jammu And Kashmir', 'Jharkhand', 'Karnataka', 'Kerala', 'Ladakh', 'Lakshadweep', 'Madhya Pradesh', 'Maharashtra', 'Manipur', 'Meghalaya', 'Mizoram', 'Nagaland', 'Odisha', 'Puducherry', 'Punjab', 'Rajasthan', 'Sikkim', 'Tamil Nadu', 'Telangana', 'Tripura', 'Uttar Pradesh', 'Uttarakhand', 'West Bengal']"
   ]
  },
  {
   "cell_type": "code",
   "execution_count": 23,
   "metadata": {},
   "outputs": [
    {
     "name": "stdout",
     "output_type": "stream",
     "text": [
      "Haryana\n",
      "Himachal Pradesh\n",
      "Jammu And Kashmir\n",
      "Jharkhand\n",
      "Karnataka\n",
      "Kerala\n",
      "Ladakh\n",
      "Lakshadweep\n",
      "Madhya Pradesh\n",
      "Maharashtra\n",
      "Manipur\n",
      "Meghalaya\n",
      "Mizoram\n",
      "Nagaland\n",
      "Odisha\n",
      "Puducherry\n",
      "Punjab\n",
      "Rajasthan\n",
      "Sikkim\n",
      "Tamil Nadu\n",
      "Telangana\n",
      "Tripura\n",
      "Uttar Pradesh\n",
      "Uttarakhand\n",
      "West Bengal\n"
     ]
    }
   ],
   "source": [
    "for state in states:\n",
    "    print(state)\n",
    "    PATH = \"C:\\Program Files (x86)\\chromedriver.exe\"\n",
    "    driver = webdriver.Chrome(PATH)\n",
    "\n",
    "    driver.get(\"https://www.soilhealth.dac.gov.in/NewHomePage/NutriPage\")\n",
    "\n",
    "    #the following is done to remove the language selection division from the page, else it interferes with the code for downloading files later\n",
    "    element = driver.find_element_by_xpath(\"//body/div[@id='body']/div[1]/div[1]\")\n",
    "    driver.execute_script(\"\"\"\n",
    "    var element = arguments[0];\n",
    "    element.parentNode.removeChild(element);\n",
    "    \"\"\", element)\n",
    "    time.sleep(3)\n",
    "    \n",
    "    #nutrition selection\n",
    "    driver.find_element_by_xpath(\"//select[@id='NutriCatId']\").click()\n",
    "    time.sleep(0.5)\n",
    "    driver.find_element_by_xpath(\"//option[contains(text(),'District Wise')]\").click()\n",
    "    time.sleep(0.5)\n",
    "    \n",
    "    #parameter selection\n",
    "    driver.find_element_by_xpath(\"//select[@id='NutriType']\").click()\n",
    "    time.sleep(0.5)\n",
    "    driver.find_element_by_xpath(\"//option[contains(text(),'Micro')]\").click()\n",
    "    time.sleep(0.5)\n",
    "\n",
    "    #cycle selection\n",
    "    driver.find_element_by_xpath(\"//select[@id='CycleId']\").click()\n",
    "    time.sleep(0.5)\n",
    "    driver.find_element_by_xpath(\"//option[contains(text(),'2015-16 to 2016-17')]\").click()\n",
    "    time.sleep(0.5)\n",
    "    \n",
    "    #state selection\n",
    "    driver.find_element_by_xpath(\"//select[@id='State_Code']\").click()\n",
    "    time.sleep(0.5)\n",
    "    driver.find_element_by_xpath(\"//option[contains(text(),'\"+state+\"')]\").click()\n",
    "    time.sleep(0.5)\n",
    "\n",
    "    #confirmation button click\n",
    "    driver.find_element_by_xpath(\"//input[@id='s']\").click()\n",
    "    time.sleep(12)\n",
    "    \n",
    "    #iframe = driver.find_element_by_iframe(\"//tbody/tr[1]/td[1]/div[1]/iframe[1]\")\n",
    "    #iframe = driver.find_element_by_xpath(\"//div[@id='ReportViewer1']\")\n",
    "    iframe = driver.find_element_by_xpath(\"//div[@id='report']//iframe\")\n",
    "    driver.switch_to.frame(iframe)\n",
    "\n",
    "    time.sleep(1)\n",
    "    \n",
    "    #download button\n",
    "    driver.find_element_by_id(\"ReportViewer1_ctl05_ctl04_ctl00_ButtonLink\").click()\n",
    "    time.sleep(1)\n",
    "    driver.find_element_by_xpath(\"//a[contains(text(),'Excel')]\").click()\n",
    "    time.sleep(2)\n",
    "\n",
    "    driver.close()"
   ]
  },
  {
   "cell_type": "code",
   "execution_count": null,
   "metadata": {},
   "outputs": [],
   "source": []
  }
 ],
 "metadata": {
  "kernelspec": {
   "display_name": "Python 3",
   "language": "python",
   "name": "python3"
  },
  "language_info": {
   "codemirror_mode": {
    "name": "ipython",
    "version": 3
   },
   "file_extension": ".py",
   "mimetype": "text/x-python",
   "name": "python",
   "nbconvert_exporter": "python",
   "pygments_lexer": "ipython3",
   "version": "3.7.6"
  }
 },
 "nbformat": 4,
 "nbformat_minor": 4
}
