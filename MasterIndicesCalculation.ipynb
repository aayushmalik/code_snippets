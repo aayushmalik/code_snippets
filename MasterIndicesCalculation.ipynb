{
 "cells": [
  {
   "cell_type": "markdown",
   "metadata": {},
   "source": [
    "This is the notebook for calculating all the indices, applications, and wqi for all the rides that have been taken.\n",
    "\n",
    "## workflow\n",
    "\n",
    "- import all the files in a directory, where the data is stored\n",
    "- for each file perform the operations\n",
    "    - for the values which are not there in the consolidated files such as bod, we need to import them from respective row of the lab data experiment file\n",
    "    - then only calulcations will be performed for the consolidated file\n",
    "- append the resulting dataframe into a master dataframe\n",
    "- export the master dataframe and put that into servers\n",
    "\n",
    "### columns to be imported from the sensor data\n",
    "\n",
    "- D.O.[ppm]\n",
    "- EC[muS per cm]\n",
    "- D.O.[percent]\n",
    "- latitude and longitude\n",
    "- ph\n",
    "\n",
    "### columns to be imported from the lab data for that date and that location\n",
    "\n",
    "- latitude and longitude\n",
    "- temperature (not needed for non-cpcb data)\n",
    "- bod\n",
    "- tc and fc\n",
    "\n",
    "# what is the best way to get values of let's say tc for 900 data points\n",
    "\n",
    "# Notes\n",
    "\n",
    "- avoid jakkur lake for now, because we didn't do any grab sampling there so it's not ethical to show the indices\n",
    "- should we take the average of bod and temperature and add the same value to all the columns of the sensor data and then calculate indices?"
   ]
  },
  {
   "cell_type": "code",
   "execution_count": null,
   "metadata": {},
   "outputs": [],
   "source": []
  }
 ],
 "metadata": {
  "kernelspec": {
   "display_name": "Python 3",
   "language": "python",
   "name": "python3"
  },
  "language_info": {
   "codemirror_mode": {
    "name": "ipython",
    "version": 3
   },
   "file_extension": ".py",
   "mimetype": "text/x-python",
   "name": "python",
   "nbconvert_exporter": "python",
   "pygments_lexer": "ipython3",
   "version": "3.7.4"
  }
 },
 "nbformat": 4,
 "nbformat_minor": 2
}
